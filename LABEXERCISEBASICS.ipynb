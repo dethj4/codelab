{
  "cells": [
    {
      "metadata": {
        "trusted": true
      },
      "cell_type": "code",
      "source": "#EXERCISE 1, ALL ODDS: WRITE A FUNCTION TO DISPLAY ALL ODD NUMBERS\nx=3\nwhile True:\n    x = x + 2\n    if x>35: break\n    print(x)",
      "execution_count": 2,
      "outputs": [
        {
          "output_type": "stream",
          "text": "5\n7\n9\n11\n13\n15\n17\n19\n21\n23\n25\n27\n29\n31\n33\n35\n",
          "name": "stdout"
        }
      ]
    },
    {
      "metadata": {
        "trusted": true
      },
      "cell_type": "code",
      "source": "#EXERCISE 2 : LOOPS WRITE 2 CONVERSION PROGRAMS WITH THE WHILE LOOP AND THE FOR LOOP WITH\n#RANGE STATEMENT FOR CONVERTING FAGRENHEIT VS CELCISU. PRINT OUT FAHRENHEIT AS INTEGERS\nfor c in range(0, 6):\n\n    c = int(c)\n    \n    f = int(f)\n\n    f = 9//5*c+32\n    print(f)\n",
      "execution_count": 19,
      "outputs": [
        {
          "output_type": "stream",
          "text": "32\n33\n34\n35\n36\n37\n",
          "name": "stdout"
        }
      ]
    },
    {
      "metadata": {
        "trusted": true
      },
      "cell_type": "code",
      "source": "#EXERCISE 2 : LOOPS WRITE 2 CONVERSION PROGRAMS WITH THE WHILE LOOP AND THE FOR LOOP WITH\n#RANGE STATEMENT FOR CONVERTING FAGRENHEIT VS CELCISU. PRINT OUT FAHRENHEIT AS INTEGERS\nc=0\nf=0\nwhile c <6:\n        c=c+1\n        f = 9//5*c + 32\n        print(f)",
      "execution_count": 4,
      "outputs": [
        {
          "output_type": "stream",
          "text": "33\n34\n35\n36\n37\n38\n",
          "name": "stdout"
        }
      ]
    },
    {
      "metadata": {
        "trusted": true
      },
      "cell_type": "code",
      "source": "#EXERCISE 3: COVERT WORD TO HEX AND BINARY ASK FOR A WORD USING INPUT() AND ONVERT IT TO BINARY\n# AND HEX. HIT: USE ORD() HEX() AND BIN() FUNCTIONS\ny = input(\"Give me a word!\")\nfor item in y:\n    print(\"The word is : \", y)\n    print()\n    x=hex(ord(item))\n    z=bin(ord(item))\n    print(\"This is your word in Hex! : \", x, end=\" \")\n    print(\"this is your word in Binary! : \", z, end=\" \")\n    print(\" \")",
      "execution_count": 9,
      "outputs": [
        {
          "output_type": "stream",
          "name": "stdout",
          "text": "Give me a word!123123\nThe word is :  123123\n\nThis is your word in Hex! :  0x31 this is your word in Binary! :  0b110001  \nThe word is :  123123\n\nThis is your word in Hex! :  0x32 this is your word in Binary! :  0b110010  \nThe word is :  123123\n\nThis is your word in Hex! :  0x33 this is your word in Binary! :  0b110011  \nThe word is :  123123\n\nThis is your word in Hex! :  0x31 this is your word in Binary! :  0b110001  \nThe word is :  123123\n\nThis is your word in Hex! :  0x32 this is your word in Binary! :  0b110010  \nThe word is :  123123\n\nThis is your word in Hex! :  0x33 this is your word in Binary! :  0b110011  \n"
        }
      ]
    },
    {
      "metadata": {
        "trusted": true
      },
      "cell_type": "code",
      "source": "#EXERCISE 4 ODD/EVEN\n\nfrom ipywidgets import interact\n\n@interact\ndef led(x=10):\n    if (x%2)==0:\n        print(\"ON\")\n    else:\n        print(\"OFF\")",
      "execution_count": 1,
      "outputs": [
        {
          "output_type": "display_data",
          "data": {
            "application/vnd.jupyter.widget-view+json": {
              "model_id": "0f312430c4004ca0ab94f31a7748f990",
              "version_minor": 0,
              "version_major": 2
            },
            "text/plain": "interactive(children=(IntSlider(value=10, description='x', max=30, min=-10), Output()), _dom_classes=('widget-…"
          },
          "metadata": {}
        }
      ]
    },
    {
      "metadata": {
        "trusted": true
      },
      "cell_type": "code",
      "source": "#EXERCISE OHMS LAW INTERACTIVE\nfrom ipywidgets import interact\n\n@interact(i=5, r=5)\ndef circuit(i, r):\n    print(\"Your voltage is\", (i*r))\n\n    \n@interact(i=\"3\", r=\"3\")\ndef circuit(i, r):\n    i=int(i)\n    r=int(r)\n    print(\"Power emitted is\", (i*(i*r)), \"watts\")\n",
      "execution_count": 2,
      "outputs": [
        {
          "output_type": "display_data",
          "data": {
            "application/vnd.jupyter.widget-view+json": {
              "model_id": "4ec8ad50432f43c598831d11286f34ec",
              "version_minor": 0,
              "version_major": 2
            },
            "text/plain": "interactive(children=(IntSlider(value=5, description='i', max=15, min=-5), IntSlider(value=5, description='r',…"
          },
          "metadata": {}
        },
        {
          "output_type": "display_data",
          "data": {
            "application/vnd.jupyter.widget-view+json": {
              "model_id": "1e1672f9f4ae4430bfa4ea3663ffe331",
              "version_minor": 0,
              "version_major": 2
            },
            "text/plain": "interactive(children=(Text(value='3', description='i'), Text(value='3', description='r'), Output()), _dom_clas…"
          },
          "metadata": {}
        }
      ]
    },
    {
      "metadata": {
        "trusted": true
      },
      "cell_type": "code",
      "source": "#EXERCISE 4, REDONE\nfrom ipywidgets import interact\n@interact\ndef led(x=10):\n    print(\"ON\") if (x%2) == 0 else print(\"OFF\")",
      "execution_count": 97,
      "outputs": [
        {
          "output_type": "display_data",
          "data": {
            "application/vnd.jupyter.widget-view+json": {
              "model_id": "c0aab77c7f4e4066a285500f4854de44",
              "version_minor": 0,
              "version_major": 2
            },
            "text/plain": "interactive(children=(IntSlider(value=10, description='x', max=30, min=-10), Output()), _dom_classes=('widget-…"
          },
          "metadata": {}
        }
      ]
    },
    {
      "metadata": {
        "trusted": true
      },
      "cell_type": "code",
      "source": "#EXERCISE 6, VOLUME\nfrom ipywidgets import interact\n@interact \n\ndef radius(x=10):\n    pi = 3.1415926535897931\n    x=int(x)\n    V= 4.0/3.0*pi* x**3\n    if x < 0 :\n        return 0\n    print(\"The volume of the sphere, with the radius\", x,\" is :\", V)\n    ",
      "execution_count": 3,
      "outputs": [
        {
          "output_type": "display_data",
          "data": {
            "application/vnd.jupyter.widget-view+json": {
              "model_id": "c4e71b475b234585a4dff132ea131f63",
              "version_minor": 0,
              "version_major": 2
            },
            "text/plain": "interactive(children=(IntSlider(value=10, description='x', max=30, min=-10), Output()), _dom_classes=('widget-…"
          },
          "metadata": {}
        }
      ]
    },
    {
      "metadata": {
        "trusted": true
      },
      "cell_type": "code",
      "source": "x=input(\"How many lbs. do you weigh?\\n\")\nx=int(x)\ns=int(x)\ns=x/14\nprint(s, \"Stone!\")",
      "execution_count": 2,
      "outputs": [
        {
          "output_type": "stream",
          "name": "stdout",
          "text": "How many lbs. do you weigh?\n123\n8.785714285714286 Stone!\n"
        }
      ]
    },
    {
      "metadata": {
        "trusted": true,
        "scrolled": true
      },
      "cell_type": "code",
      "source": "dollar_amount = input(\"How much money u got bro? \\n\")\ndollar_amount = float(dollar_amount)\nprint(\"Awesome! You have $\", dollar_amount)\n\ndollaz=dollar_amount/1\ndollaz=int(dollaz)\nprint(\"You have\\n\", dollaz, \"dollars\")\n\nquartaz=(dollar_amount-dollaz)/.25\nquartaz=int(quartaz)\nprint(quartaz, \"quarters\")\n\ndimes=((dollar_amount-dollaz)-(quartaz*.25))/.10\ndimes=int(dimes)\nprint( dimes, \"dime\")\n\nnickels=(((dollar_amount-dollaz)-(quartaz*.25))-(dimes*.10))/.05\nnickels=int(nickels)\nprint(nickels, \"nickels\")\n\npenniez=((((dollar_amount-dollaz)-(quartaz*.25))-(dimes*.10))-(nickels*.05))/.01\npenniez=int(penniez)\nprint(penniez, \"pennies\")\n",
      "execution_count": 87,
      "outputs": [
        {
          "output_type": "stream",
          "name": "stdout",
          "text": "How much money u got bro? \n123.89\nAwesome! You have $ 123.89\nYou have\n 123 dollars\n3 quarters\n1 dime\n0 nickels\n4 pennies\n"
        }
      ]
    }
  ],
  "metadata": {
    "kernelspec": {
      "name": "python36",
      "display_name": "Python 3.6",
      "language": "python"
    },
    "language_info": {
      "mimetype": "text/x-python",
      "nbconvert_exporter": "python",
      "name": "python",
      "pygments_lexer": "ipython3",
      "version": "3.6.6",
      "file_extension": ".py",
      "codemirror_mode": {
        "version": 3,
        "name": "ipython"
      }
    }
  },
  "nbformat": 4,
  "nbformat_minor": 2
}